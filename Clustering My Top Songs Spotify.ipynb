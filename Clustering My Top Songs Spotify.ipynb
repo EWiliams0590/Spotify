{
 "cells": [
  {
   "cell_type": "markdown",
   "id": "promotional-release",
   "metadata": {},
   "source": [
    "# Clustering My Most Played Spotify Songs\n",
    "\n",
    "This notebook will be for creating a clustering model for my most played Spotify songs."
   ]
  },
  {
   "cell_type": "code",
   "execution_count": 1,
   "id": "informed-control",
   "metadata": {},
   "outputs": [],
   "source": [
    "import numpy as np\n",
    "import pandas as pd\n",
    "import matplotlib.pyplot as plt\n",
    "import seaborn as sns\n",
    "\n",
    "from sklearn.preprocessing import StandardScaler\n",
    "from sklearn.compose import ColumnTransformer\n",
    "from sklearn.pipeline import Pipeline\n",
    "from sklearn.cluster import KMeans"
   ]
  },
  {
   "cell_type": "code",
   "execution_count": 2,
   "id": "entertaining-invention",
   "metadata": {},
   "outputs": [],
   "source": [
    "df = pd.read_csv('SongDataForModel.csv')"
   ]
  },
  {
   "cell_type": "code",
   "execution_count": 3,
   "id": "instant-samuel",
   "metadata": {},
   "outputs": [
    {
     "data": {
      "text/html": [
       "<div>\n",
       "<style scoped>\n",
       "    .dataframe tbody tr th:only-of-type {\n",
       "        vertical-align: middle;\n",
       "    }\n",
       "\n",
       "    .dataframe tbody tr th {\n",
       "        vertical-align: top;\n",
       "    }\n",
       "\n",
       "    .dataframe thead th {\n",
       "        text-align: right;\n",
       "    }\n",
       "</style>\n",
       "<table border=\"1\" class=\"dataframe\">\n",
       "  <thead>\n",
       "    <tr style=\"text-align: right;\">\n",
       "      <th></th>\n",
       "      <th>trackName</th>\n",
       "      <th>artistName</th>\n",
       "      <th>id</th>\n",
       "      <th>danceability</th>\n",
       "      <th>energy</th>\n",
       "      <th>loudness</th>\n",
       "      <th>speechiness</th>\n",
       "      <th>acousticness</th>\n",
       "      <th>liveness</th>\n",
       "      <th>valence</th>\n",
       "      <th>tempo</th>\n",
       "      <th>playCount</th>\n",
       "    </tr>\n",
       "  </thead>\n",
       "  <tbody>\n",
       "    <tr>\n",
       "      <th>0</th>\n",
       "      <td>100k</td>\n",
       "      <td>The Loved Ones</td>\n",
       "      <td>1LofCVLTwOF6SikmM7STkb</td>\n",
       "      <td>0.463</td>\n",
       "      <td>0.954</td>\n",
       "      <td>-4.513</td>\n",
       "      <td>0.0449</td>\n",
       "      <td>0.003220</td>\n",
       "      <td>0.3890</td>\n",
       "      <td>0.793</td>\n",
       "      <td>99.938</td>\n",
       "      <td>10</td>\n",
       "    </tr>\n",
       "    <tr>\n",
       "      <th>1</th>\n",
       "      <td>155</td>\n",
       "      <td>+44</td>\n",
       "      <td>3DPBEiVe1lzl8MP0NDVM7R</td>\n",
       "      <td>0.462</td>\n",
       "      <td>0.936</td>\n",
       "      <td>-3.604</td>\n",
       "      <td>0.0429</td>\n",
       "      <td>0.001730</td>\n",
       "      <td>0.3730</td>\n",
       "      <td>0.546</td>\n",
       "      <td>155.017</td>\n",
       "      <td>25</td>\n",
       "    </tr>\n",
       "    <tr>\n",
       "      <th>2</th>\n",
       "      <td>17 Girls In A Row</td>\n",
       "      <td>Steel Panther</td>\n",
       "      <td>07vFoIywXHy1umQJeYUmiS</td>\n",
       "      <td>0.559</td>\n",
       "      <td>0.926</td>\n",
       "      <td>-3.310</td>\n",
       "      <td>0.0559</td>\n",
       "      <td>0.000015</td>\n",
       "      <td>0.0779</td>\n",
       "      <td>0.637</td>\n",
       "      <td>99.985</td>\n",
       "      <td>13</td>\n",
       "    </tr>\n",
       "    <tr>\n",
       "      <th>3</th>\n",
       "      <td>241</td>\n",
       "      <td>Reel Big Fish</td>\n",
       "      <td>4mxff4HQLQ1fMEUvwblzst</td>\n",
       "      <td>0.729</td>\n",
       "      <td>0.614</td>\n",
       "      <td>-7.236</td>\n",
       "      <td>0.0544</td>\n",
       "      <td>0.013400</td>\n",
       "      <td>0.0616</td>\n",
       "      <td>0.964</td>\n",
       "      <td>138.786</td>\n",
       "      <td>10</td>\n",
       "    </tr>\n",
       "    <tr>\n",
       "      <th>4</th>\n",
       "      <td>3-D</td>\n",
       "      <td>Stranger</td>\n",
       "      <td>7r5wep1TKafUObN3pEBFaW</td>\n",
       "      <td>0.560</td>\n",
       "      <td>0.772</td>\n",
       "      <td>-6.096</td>\n",
       "      <td>0.0836</td>\n",
       "      <td>0.037500</td>\n",
       "      <td>0.1560</td>\n",
       "      <td>0.788</td>\n",
       "      <td>170.080</td>\n",
       "      <td>13</td>\n",
       "    </tr>\n",
       "  </tbody>\n",
       "</table>\n",
       "</div>"
      ],
      "text/plain": [
       "           trackName      artistName                      id  danceability  \\\n",
       "0               100k  The Loved Ones  1LofCVLTwOF6SikmM7STkb         0.463   \n",
       "1                155             +44  3DPBEiVe1lzl8MP0NDVM7R         0.462   \n",
       "2  17 Girls In A Row   Steel Panther  07vFoIywXHy1umQJeYUmiS         0.559   \n",
       "3                241   Reel Big Fish  4mxff4HQLQ1fMEUvwblzst         0.729   \n",
       "4                3-D        Stranger  7r5wep1TKafUObN3pEBFaW         0.560   \n",
       "\n",
       "   energy  loudness  speechiness  acousticness  liveness  valence    tempo  \\\n",
       "0   0.954    -4.513       0.0449      0.003220    0.3890    0.793   99.938   \n",
       "1   0.936    -3.604       0.0429      0.001730    0.3730    0.546  155.017   \n",
       "2   0.926    -3.310       0.0559      0.000015    0.0779    0.637   99.985   \n",
       "3   0.614    -7.236       0.0544      0.013400    0.0616    0.964  138.786   \n",
       "4   0.772    -6.096       0.0836      0.037500    0.1560    0.788  170.080   \n",
       "\n",
       "   playCount  \n",
       "0         10  \n",
       "1         25  \n",
       "2         13  \n",
       "3         10  \n",
       "4         13  "
      ]
     },
     "execution_count": 3,
     "metadata": {},
     "output_type": "execute_result"
    }
   ],
   "source": [
    "df.head()"
   ]
  },
  {
   "cell_type": "markdown",
   "id": "living-packet",
   "metadata": {},
   "source": [
    "### Model Creation"
   ]
  },
  {
   "cell_type": "code",
   "execution_count": 6,
   "id": "suburban-tablet",
   "metadata": {},
   "outputs": [],
   "source": [
    "play_counts = df['playCount']\n",
    "\n",
    "features_for_cluster = df.columns.drop(['trackName', 'artistName', 'id', 'playCount'])\n",
    "\n",
    "X = df[features_for_cluster]"
   ]
  },
  {
   "cell_type": "code",
   "execution_count": 7,
   "id": "olive-anxiety",
   "metadata": {},
   "outputs": [
    {
     "data": {
      "text/html": [
       "<div>\n",
       "<style scoped>\n",
       "    .dataframe tbody tr th:only-of-type {\n",
       "        vertical-align: middle;\n",
       "    }\n",
       "\n",
       "    .dataframe tbody tr th {\n",
       "        vertical-align: top;\n",
       "    }\n",
       "\n",
       "    .dataframe thead th {\n",
       "        text-align: right;\n",
       "    }\n",
       "</style>\n",
       "<table border=\"1\" class=\"dataframe\">\n",
       "  <thead>\n",
       "    <tr style=\"text-align: right;\">\n",
       "      <th></th>\n",
       "      <th>danceability</th>\n",
       "      <th>energy</th>\n",
       "      <th>loudness</th>\n",
       "      <th>speechiness</th>\n",
       "      <th>acousticness</th>\n",
       "      <th>liveness</th>\n",
       "      <th>valence</th>\n",
       "      <th>tempo</th>\n",
       "    </tr>\n",
       "  </thead>\n",
       "  <tbody>\n",
       "    <tr>\n",
       "      <th>0</th>\n",
       "      <td>0.463</td>\n",
       "      <td>0.954</td>\n",
       "      <td>-4.513</td>\n",
       "      <td>0.0449</td>\n",
       "      <td>0.003220</td>\n",
       "      <td>0.3890</td>\n",
       "      <td>0.793</td>\n",
       "      <td>99.938</td>\n",
       "    </tr>\n",
       "    <tr>\n",
       "      <th>1</th>\n",
       "      <td>0.462</td>\n",
       "      <td>0.936</td>\n",
       "      <td>-3.604</td>\n",
       "      <td>0.0429</td>\n",
       "      <td>0.001730</td>\n",
       "      <td>0.3730</td>\n",
       "      <td>0.546</td>\n",
       "      <td>155.017</td>\n",
       "    </tr>\n",
       "    <tr>\n",
       "      <th>2</th>\n",
       "      <td>0.559</td>\n",
       "      <td>0.926</td>\n",
       "      <td>-3.310</td>\n",
       "      <td>0.0559</td>\n",
       "      <td>0.000015</td>\n",
       "      <td>0.0779</td>\n",
       "      <td>0.637</td>\n",
       "      <td>99.985</td>\n",
       "    </tr>\n",
       "    <tr>\n",
       "      <th>3</th>\n",
       "      <td>0.729</td>\n",
       "      <td>0.614</td>\n",
       "      <td>-7.236</td>\n",
       "      <td>0.0544</td>\n",
       "      <td>0.013400</td>\n",
       "      <td>0.0616</td>\n",
       "      <td>0.964</td>\n",
       "      <td>138.786</td>\n",
       "    </tr>\n",
       "    <tr>\n",
       "      <th>4</th>\n",
       "      <td>0.560</td>\n",
       "      <td>0.772</td>\n",
       "      <td>-6.096</td>\n",
       "      <td>0.0836</td>\n",
       "      <td>0.037500</td>\n",
       "      <td>0.1560</td>\n",
       "      <td>0.788</td>\n",
       "      <td>170.080</td>\n",
       "    </tr>\n",
       "  </tbody>\n",
       "</table>\n",
       "</div>"
      ],
      "text/plain": [
       "   danceability  energy  loudness  speechiness  acousticness  liveness  \\\n",
       "0         0.463   0.954    -4.513       0.0449      0.003220    0.3890   \n",
       "1         0.462   0.936    -3.604       0.0429      0.001730    0.3730   \n",
       "2         0.559   0.926    -3.310       0.0559      0.000015    0.0779   \n",
       "3         0.729   0.614    -7.236       0.0544      0.013400    0.0616   \n",
       "4         0.560   0.772    -6.096       0.0836      0.037500    0.1560   \n",
       "\n",
       "   valence    tempo  \n",
       "0    0.793   99.938  \n",
       "1    0.546  155.017  \n",
       "2    0.637   99.985  \n",
       "3    0.964  138.786  \n",
       "4    0.788  170.080  "
      ]
     },
     "execution_count": 7,
     "metadata": {},
     "output_type": "execute_result"
    }
   ],
   "source": [
    "X.head()"
   ]
  },
  {
   "cell_type": "code",
   "execution_count": 10,
   "id": "effective-senior",
   "metadata": {},
   "outputs": [],
   "source": [
    "scaler = StandardScaler()\n",
    "\n",
    "preprocessing = ColumnTransformer([\n",
    "    ('scaler', scaler, X.columns),\n",
    "])"
   ]
  },
  {
   "cell_type": "code",
   "execution_count": 11,
   "id": "quick-forward",
   "metadata": {},
   "outputs": [
    {
     "data": {
      "text/plain": [
       "<AxesSubplot:>"
      ]
     },
     "execution_count": 11,
     "metadata": {},
     "output_type": "execute_result"
    },
    {
     "data": {
      "image/png": "[encoded data removed]",
      "text/plain": [
       "<Figure size 432x288 with 1 Axes>"
      ]
     },
     "metadata": {
      "needs_background": "light"
     },
     "output_type": "display_data"
    }
   ],
   "source": [
    "ssd = []\n",
    "N = 15\n",
    "\n",
    "for i in range(2, N):\n",
    "    kmeans_pipeline = Pipeline([\n",
    "        ('preprocessing', preprocessing),\n",
    "        ('kmeans', KMeans(n_clusters=i))\n",
    "    ])\n",
    "    \n",
    "    clusters = kmeans_pipeline.fit_predict(X)\n",
    "    \n",
    "    inertia = kmeans_pipeline[1].inertia_\n",
    "    \n",
    "    ssd.append(inertia)\n",
    "\n",
    "ssd_series = pd.Series(data=ssd, index=range(2, len(ssd)+2))\n",
    "\n",
    "sns.lineplot(data=ssd_series, x=ssd_series.index, y=ssd_series.values)    "
   ]
  },
  {
   "cell_type": "markdown",
   "id": "sought-flood",
   "metadata": {},
   "source": [
    "There is no definite elbow point here. To refrain from going too high, I will choose k=6."
   ]
  },
  {
   "cell_type": "code",
   "execution_count": 12,
   "id": "pleased-passenger",
   "metadata": {},
   "outputs": [],
   "source": [
    "k=6\n",
    "\n",
    "kmeans_pipeline = Pipeline([\n",
    "    ('preprocessing', preprocessing),\n",
    "    ('kmeans', KMeans(n_clusters=k))\n",
    "])\n",
    "\n",
    "clusters = kmeans_pipeline.fit_predict(X)\n",
    "\n",
    "cluster_centers = kmeans_pipeline[1].cluster_centers_"
   ]
  },
  {
   "cell_type": "code",
   "execution_count": 13,
   "id": "sound-modern",
   "metadata": {},
   "outputs": [
    {
     "data": {
      "text/plain": [
       "2    125\n",
       "3    123\n",
       "4    103\n",
       "0     56\n",
       "1     26\n",
       "5     21\n",
       "dtype: int64"
      ]
     },
     "execution_count": 13,
     "metadata": {},
     "output_type": "execute_result"
    }
   ],
   "source": [
    "pd.Series(clusters).value_counts()"
   ]
  },
  {
   "cell_type": "code",
   "execution_count": 28,
   "id": "classical-lightning",
   "metadata": {},
   "outputs": [
    {
     "data": {
      "text/html": [
       "<div>\n",
       "<style scoped>\n",
       "    .dataframe tbody tr th:only-of-type {\n",
       "        vertical-align: middle;\n",
       "    }\n",
       "\n",
       "    .dataframe tbody tr th {\n",
       "        vertical-align: top;\n",
       "    }\n",
       "\n",
       "    .dataframe thead th {\n",
       "        text-align: right;\n",
       "    }\n",
       "</style>\n",
       "<table border=\"1\" class=\"dataframe\">\n",
       "  <thead>\n",
       "    <tr style=\"text-align: right;\">\n",
       "      <th></th>\n",
       "      <th>danceability</th>\n",
       "      <th>energy</th>\n",
       "      <th>loudness</th>\n",
       "      <th>speechiness</th>\n",
       "      <th>acousticness</th>\n",
       "      <th>liveness</th>\n",
       "      <th>valence</th>\n",
       "      <th>tempo</th>\n",
       "    </tr>\n",
       "  </thead>\n",
       "  <tbody>\n",
       "    <tr>\n",
       "      <th>0</th>\n",
       "      <td>0.482679</td>\n",
       "      <td>0.690100</td>\n",
       "      <td>-9.833214</td>\n",
       "      <td>0.042148</td>\n",
       "      <td>0.015991</td>\n",
       "      <td>0.202904</td>\n",
       "      <td>0.579161</td>\n",
       "      <td>130.844375</td>\n",
       "    </tr>\n",
       "    <tr>\n",
       "      <th>1</th>\n",
       "      <td>0.378385</td>\n",
       "      <td>0.916923</td>\n",
       "      <td>-6.047615</td>\n",
       "      <td>0.098604</td>\n",
       "      <td>0.008089</td>\n",
       "      <td>0.653923</td>\n",
       "      <td>0.426615</td>\n",
       "      <td>142.079500</td>\n",
       "    </tr>\n",
       "    <tr>\n",
       "      <th>2</th>\n",
       "      <td>0.431008</td>\n",
       "      <td>0.918288</td>\n",
       "      <td>-4.715416</td>\n",
       "      <td>0.078566</td>\n",
       "      <td>0.007257</td>\n",
       "      <td>0.188914</td>\n",
       "      <td>0.332109</td>\n",
       "      <td>112.097936</td>\n",
       "    </tr>\n",
       "    <tr>\n",
       "      <th>3</th>\n",
       "      <td>0.532447</td>\n",
       "      <td>0.923033</td>\n",
       "      <td>-4.852016</td>\n",
       "      <td>0.066180</td>\n",
       "      <td>0.009661</td>\n",
       "      <td>0.192511</td>\n",
       "      <td>0.651504</td>\n",
       "      <td>124.643211</td>\n",
       "    </tr>\n",
       "    <tr>\n",
       "      <th>4</th>\n",
       "      <td>0.362097</td>\n",
       "      <td>0.936981</td>\n",
       "      <td>-4.269388</td>\n",
       "      <td>0.113756</td>\n",
       "      <td>0.007528</td>\n",
       "      <td>0.201303</td>\n",
       "      <td>0.457367</td>\n",
       "      <td>169.383825</td>\n",
       "    </tr>\n",
       "    <tr>\n",
       "      <th>5</th>\n",
       "      <td>0.574048</td>\n",
       "      <td>0.785000</td>\n",
       "      <td>-7.454381</td>\n",
       "      <td>0.044357</td>\n",
       "      <td>0.171762</td>\n",
       "      <td>0.262719</td>\n",
       "      <td>0.684619</td>\n",
       "      <td>127.757143</td>\n",
       "    </tr>\n",
       "  </tbody>\n",
       "</table>\n",
       "</div>"
      ],
      "text/plain": [
       "   danceability    energy  loudness  speechiness  acousticness  liveness  \\\n",
       "0      0.482679  0.690100 -9.833214     0.042148      0.015991  0.202904   \n",
       "1      0.378385  0.916923 -6.047615     0.098604      0.008089  0.653923   \n",
       "2      0.431008  0.918288 -4.715416     0.078566      0.007257  0.188914   \n",
       "3      0.532447  0.923033 -4.852016     0.066180      0.009661  0.192511   \n",
       "4      0.362097  0.936981 -4.269388     0.113756      0.007528  0.201303   \n",
       "5      0.574048  0.785000 -7.454381     0.044357      0.171762  0.262719   \n",
       "\n",
       "    valence       tempo  \n",
       "0  0.579161  130.844375  \n",
       "1  0.426615  142.079500  \n",
       "2  0.332109  112.097936  \n",
       "3  0.651504  124.643211  \n",
       "4  0.457367  169.383825  \n",
       "5  0.684619  127.757143  "
      ]
     },
     "execution_count": 28,
     "metadata": {},
     "output_type": "execute_result"
    }
   ],
   "source": [
    "cluster_centers_original = kmeans_pipeline[0].transformers_[0][1].inverse_transform(cluster_centers)\n",
    "\n",
    "pd.DataFrame(cluster_centers_original, columns=X.columns)"
   ]
  },
  {
   "cell_type": "code",
   "execution_count": 33,
   "id": "arctic-formation",
   "metadata": {},
   "outputs": [],
   "source": [
    "from joblib import dump"
   ]
  },
  {
   "cell_type": "code",
   "execution_count": 34,
   "id": "answering-beijing",
   "metadata": {},
   "outputs": [
    {
     "data": {
      "text/plain": [
       "['KMeansModel.joblib']"
      ]
     },
     "execution_count": 34,
     "metadata": {},
     "output_type": "execute_result"
    }
   ],
   "source": [
    "dump(kmeans_pipeline, 'KMeansModel.joblib') # save the model"
   ]
  }
 ],
 "metadata": {
  "kernelspec": {
   "display_name": "Python py3TF2",
   "language": "python",
   "name": "py3tf2"
  },
  "language_info": {
   "codemirror_mode": {
    "name": "ipython",
    "version": 3
   },
   "file_extension": ".py",
   "mimetype": "text/x-python",
   "name": "python",
   "nbconvert_exporter": "python",
   "pygments_lexer": "ipython3",
   "version": "3.8.5"
  }
 },
 "nbformat": 4,
 "nbformat_minor": 5
}
