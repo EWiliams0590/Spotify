{
 "cells": [
  {
   "cell_type": "markdown",
   "id": "convertible-malta",
   "metadata": {},
   "source": [
    "# Clustering My Most Played Spotify Songs\n",
    "\n",
    "This notebook will be for creating a clustering model for my most played Spotify songs."
   ]
  },
  {
   "cell_type": "code",
   "execution_count": 1,
   "id": "attempted-channel",
   "metadata": {},
   "outputs": [],
   "source": [
    "import numpy as np\n",
    "import pandas as pd\n",
    "import matplotlib.pyplot as plt\n",
    "import seaborn as sns\n",
    "\n",
    "from sklearn.preprocessing import StandardScaler, OneHotEncoder\n",
    "from sklearn.compose import ColumnTransformer\n",
    "from sklearn.pipeline import Pipeline\n",
    "from sklearn.cluster import KMeans"
   ]
  },
  {
   "cell_type": "code",
   "execution_count": 2,
   "id": "convenient-collar",
   "metadata": {},
   "outputs": [],
   "source": [
    "df = pd.read_csv('FinalSongAnalysisMerged.csv')"
   ]
  },
  {
   "cell_type": "code",
   "execution_count": 3,
   "id": "dutch-amateur",
   "metadata": {},
   "outputs": [
    {
     "data": {
      "text/html": [
       "<div>\n",
       "<style scoped>\n",
       "    .dataframe tbody tr th:only-of-type {\n",
       "        vertical-align: middle;\n",
       "    }\n",
       "\n",
       "    .dataframe tbody tr th {\n",
       "        vertical-align: top;\n",
       "    }\n",
       "\n",
       "    .dataframe thead th {\n",
       "        text-align: right;\n",
       "    }\n",
       "</style>\n",
       "<table border=\"1\" class=\"dataframe\">\n",
       "  <thead>\n",
       "    <tr style=\"text-align: right;\">\n",
       "      <th></th>\n",
       "      <th>danceability</th>\n",
       "      <th>energy</th>\n",
       "      <th>key</th>\n",
       "      <th>loudness</th>\n",
       "      <th>mode</th>\n",
       "      <th>speechiness</th>\n",
       "      <th>acousticness</th>\n",
       "      <th>instrumentalness</th>\n",
       "      <th>liveness</th>\n",
       "      <th>valence</th>\n",
       "      <th>tempo</th>\n",
       "      <th>artistName</th>\n",
       "      <th>trackName</th>\n",
       "    </tr>\n",
       "  </thead>\n",
       "  <tbody>\n",
       "    <tr>\n",
       "      <th>0</th>\n",
       "      <td>0.395</td>\n",
       "      <td>0.848</td>\n",
       "      <td>4</td>\n",
       "      <td>-7.285</td>\n",
       "      <td>0</td>\n",
       "      <td>0.0527</td>\n",
       "      <td>0.00126</td>\n",
       "      <td>0.000500</td>\n",
       "      <td>0.335</td>\n",
       "      <td>0.580</td>\n",
       "      <td>87.619</td>\n",
       "      <td>Kansas</td>\n",
       "      <td>Don't Open Your Eyes</td>\n",
       "    </tr>\n",
       "    <tr>\n",
       "      <th>1</th>\n",
       "      <td>0.599</td>\n",
       "      <td>0.846</td>\n",
       "      <td>5</td>\n",
       "      <td>-6.086</td>\n",
       "      <td>1</td>\n",
       "      <td>0.1980</td>\n",
       "      <td>0.05150</td>\n",
       "      <td>0.000012</td>\n",
       "      <td>0.748</td>\n",
       "      <td>0.875</td>\n",
       "      <td>108.207</td>\n",
       "      <td>Kansas</td>\n",
       "      <td>Stay out of Trouble</td>\n",
       "    </tr>\n",
       "    <tr>\n",
       "      <th>2</th>\n",
       "      <td>0.327</td>\n",
       "      <td>0.851</td>\n",
       "      <td>6</td>\n",
       "      <td>-7.656</td>\n",
       "      <td>0</td>\n",
       "      <td>0.0629</td>\n",
       "      <td>0.00206</td>\n",
       "      <td>0.003700</td>\n",
       "      <td>0.722</td>\n",
       "      <td>0.508</td>\n",
       "      <td>96.377</td>\n",
       "      <td>Kansas</td>\n",
       "      <td>Icarus - Borne on Wings of Steel</td>\n",
       "    </tr>\n",
       "    <tr>\n",
       "      <th>3</th>\n",
       "      <td>0.376</td>\n",
       "      <td>0.853</td>\n",
       "      <td>11</td>\n",
       "      <td>-6.698</td>\n",
       "      <td>0</td>\n",
       "      <td>0.3080</td>\n",
       "      <td>0.01870</td>\n",
       "      <td>0.024900</td>\n",
       "      <td>0.300</td>\n",
       "      <td>0.301</td>\n",
       "      <td>144.403</td>\n",
       "      <td>Kansas</td>\n",
       "      <td>How My Soul Cries Out for You</td>\n",
       "    </tr>\n",
       "    <tr>\n",
       "      <th>4</th>\n",
       "      <td>0.427</td>\n",
       "      <td>0.730</td>\n",
       "      <td>9</td>\n",
       "      <td>-6.173</td>\n",
       "      <td>0</td>\n",
       "      <td>0.0360</td>\n",
       "      <td>0.01800</td>\n",
       "      <td>0.000364</td>\n",
       "      <td>0.218</td>\n",
       "      <td>0.553</td>\n",
       "      <td>106.255</td>\n",
       "      <td>Kansas</td>\n",
       "      <td>Miracles out of Nowhere</td>\n",
       "    </tr>\n",
       "  </tbody>\n",
       "</table>\n",
       "</div>"
      ],
      "text/plain": [
       "   danceability  energy  key  loudness  mode  speechiness  acousticness  \\\n",
       "0         0.395   0.848    4    -7.285     0       0.0527       0.00126   \n",
       "1         0.599   0.846    5    -6.086     1       0.1980       0.05150   \n",
       "2         0.327   0.851    6    -7.656     0       0.0629       0.00206   \n",
       "3         0.376   0.853   11    -6.698     0       0.3080       0.01870   \n",
       "4         0.427   0.730    9    -6.173     0       0.0360       0.01800   \n",
       "\n",
       "   instrumentalness  liveness  valence    tempo artistName  \\\n",
       "0          0.000500     0.335    0.580   87.619     Kansas   \n",
       "1          0.000012     0.748    0.875  108.207     Kansas   \n",
       "2          0.003700     0.722    0.508   96.377     Kansas   \n",
       "3          0.024900     0.300    0.301  144.403     Kansas   \n",
       "4          0.000364     0.218    0.553  106.255     Kansas   \n",
       "\n",
       "                          trackName  \n",
       "0              Don't Open Your Eyes  \n",
       "1               Stay out of Trouble  \n",
       "2  Icarus - Borne on Wings of Steel  \n",
       "3     How My Soul Cries Out for You  \n",
       "4           Miracles out of Nowhere  "
      ]
     },
     "execution_count": 3,
     "metadata": {},
     "output_type": "execute_result"
    }
   ],
   "source": [
    "df.head()"
   ]
  },
  {
   "cell_type": "markdown",
   "id": "complex-beatles",
   "metadata": {},
   "source": [
    "### Review\n",
    "\n",
    "As I saw in the previous notebook, there is not much correlation between any of the features. Additionally, most songs had very similar features, which is not surprising since it is my most played song."
   ]
  },
  {
   "cell_type": "markdown",
   "id": "stuffed-county",
   "metadata": {},
   "source": [
    "### Feature Meanings\n",
    "\n",
    "Danceability: From 0 to 1. How \"easy\" it is to dance to a song.\n",
    "\n",
    "Energy: 0 to 1. Represents a perceptual measure of intensity and activity. Higher ---> more energy\n",
    "\n",
    "Key: Major key of a track {0: C, 1: C#, 2:D, ..., 11: B}\n",
    "\n",
    "Loudness: Overall loudness of a track in dB. Typically between -60 and 0 dB.\n",
    "\n",
    "Mode: Major (1) or Minor (0)\n",
    "\n",
    "Speechiness: 0 to 1. Detects the amount of speech compared to the amount of singing. Higher ---> more speech.\n",
    "\n",
    "Acousticness: 0 to 1. Measures how acoustic vs. electric. Higher is more acoustic.\n",
    "\n",
    "Instrumentalness: 0 to 1. The higher, the more likely it is instrumental (no vocals)\n",
    "\n",
    "Liveness: 0 to 1. Higher means the track is more likely to be recorded live.\n",
    "\n",
    "Valence: 0 to 1. Positiveness conveyed by a song. The higher the score, the more positive (happy, etc) it is.\n",
    "\n",
    "Tempo: The quickness of a song. The higher, the more fast-paced."
   ]
  },
  {
   "cell_type": "markdown",
   "id": "copyrighted-stationery",
   "metadata": {},
   "source": [
    "### Acousticness\n",
    "\n",
    "The acousticness for most of my songs is very low (almost zero), so I want to make a better visual to see if, at a smaller scale, there is a difference."
   ]
  },
  {
   "cell_type": "code",
   "execution_count": 4,
   "id": "negative-hobby",
   "metadata": {},
   "outputs": [
    {
     "data": {
      "image/png": "[encoded data removed]",
      "text/plain": [
       "<Figure size 800x600 with 1 Axes>"
      ]
     },
     "metadata": {
      "needs_background": "light"
     },
     "output_type": "display_data"
    }
   ],
   "source": [
    "plt.figure(figsize=(8,6),dpi=100)\n",
    "\n",
    "sns.histplot(data=df, x='acousticness', binwidth=0.005)\n",
    "\n",
    "plt.title(\"Acousticness Histogram: Binwidth = 0.005\")\n",
    "plt.xlim(0, 0.1)\n",
    "plt.show()"
   ]
  },
  {
   "cell_type": "markdown",
   "id": "swedish-turkish",
   "metadata": {},
   "source": [
    "As we can see,  around 200 out of 294 songs in the dataset have acousticness between 0 and 0.005. Since the range of acousticness is 0 to 1, this shows that the acousticness feature of most of my songs is basically zero and there really is not much spread over a small range."
   ]
  },
  {
   "cell_type": "markdown",
   "id": "effective-concrete",
   "metadata": {},
   "source": [
    "### Key and Mode\n",
    "\n",
    "The main key of a song will often determine the \"sound\" of a song (not necessarily style), but this can be related to the mode of the song (whether it is in major or minor key).\n",
    "\n",
    "I want to see if visualizing the keys split on the mode gives any indication of whether a song is in major or minor based on its main key."
   ]
  },
  {
   "cell_type": "code",
   "execution_count": 5,
   "id": "thousand-coordination",
   "metadata": {},
   "outputs": [
    {
     "data": {
      "text/plain": [
       "1    192\n",
       "0    102\n",
       "Name: mode, dtype: int64"
      ]
     },
     "execution_count": 5,
     "metadata": {},
     "output_type": "execute_result"
    }
   ],
   "source": [
    "df['mode'].value_counts() # value counts of mode for reference"
   ]
  },
  {
   "cell_type": "code",
   "execution_count": 6,
   "id": "operating-assist",
   "metadata": {},
   "outputs": [
    {
     "data": {
      "image/png": "[encoded data removed]",
      "text/plain": [
       "<Figure size 800x500 with 1 Axes>"
      ]
     },
     "metadata": {
      "needs_background": "light"
     },
     "output_type": "display_data"
    }
   ],
   "source": [
    "plt.figure(figsize=(8,5), dpi=100)\n",
    "\n",
    "sns.countplot(data=df, x='key', hue='mode');"
   ]
  },
  {
   "cell_type": "markdown",
   "id": "absent-gardening",
   "metadata": {},
   "source": [
    "As we can see, if the main key of a song is in 0-2 or 7-9, then the song will more likely be played in a major key. However, the rest of the keys are very similar, with some having majority of minor key.\n",
    "\n",
    "Of note is that there is roughly a 2 to 1 ratio overall of major to minor key, so this could indicate that, if the main key is 0-2 or 7-9 (especially 0-2), then there is a strong indication the song will be played in major."
   ]
  },
  {
   "cell_type": "markdown",
   "id": "architectural-fundamentals",
   "metadata": {},
   "source": [
    "### Model Creation"
   ]
  },
  {
   "cell_type": "code",
   "execution_count": 8,
   "id": "brazilian-impression",
   "metadata": {},
   "outputs": [],
   "source": [
    "features_for_cluster = df.columns.drop(['artistName', 'trackName'])\n",
    "\n",
    "X = df[features_for_cluster]"
   ]
  },
  {
   "cell_type": "code",
   "execution_count": 9,
   "id": "confident-realtor",
   "metadata": {},
   "outputs": [
    {
     "data": {
      "text/html": [
       "<div>\n",
       "<style scoped>\n",
       "    .dataframe tbody tr th:only-of-type {\n",
       "        vertical-align: middle;\n",
       "    }\n",
       "\n",
       "    .dataframe tbody tr th {\n",
       "        vertical-align: top;\n",
       "    }\n",
       "\n",
       "    .dataframe thead th {\n",
       "        text-align: right;\n",
       "    }\n",
       "</style>\n",
       "<table border=\"1\" class=\"dataframe\">\n",
       "  <thead>\n",
       "    <tr style=\"text-align: right;\">\n",
       "      <th></th>\n",
       "      <th>danceability</th>\n",
       "      <th>energy</th>\n",
       "      <th>key</th>\n",
       "      <th>loudness</th>\n",
       "      <th>mode</th>\n",
       "      <th>speechiness</th>\n",
       "      <th>acousticness</th>\n",
       "      <th>instrumentalness</th>\n",
       "      <th>liveness</th>\n",
       "      <th>valence</th>\n",
       "      <th>tempo</th>\n",
       "    </tr>\n",
       "  </thead>\n",
       "  <tbody>\n",
       "    <tr>\n",
       "      <th>0</th>\n",
       "      <td>0.395</td>\n",
       "      <td>0.848</td>\n",
       "      <td>4</td>\n",
       "      <td>-7.285</td>\n",
       "      <td>0</td>\n",
       "      <td>0.0527</td>\n",
       "      <td>0.00126</td>\n",
       "      <td>0.000500</td>\n",
       "      <td>0.335</td>\n",
       "      <td>0.580</td>\n",
       "      <td>87.619</td>\n",
       "    </tr>\n",
       "    <tr>\n",
       "      <th>1</th>\n",
       "      <td>0.599</td>\n",
       "      <td>0.846</td>\n",
       "      <td>5</td>\n",
       "      <td>-6.086</td>\n",
       "      <td>1</td>\n",
       "      <td>0.1980</td>\n",
       "      <td>0.05150</td>\n",
       "      <td>0.000012</td>\n",
       "      <td>0.748</td>\n",
       "      <td>0.875</td>\n",
       "      <td>108.207</td>\n",
       "    </tr>\n",
       "    <tr>\n",
       "      <th>2</th>\n",
       "      <td>0.327</td>\n",
       "      <td>0.851</td>\n",
       "      <td>6</td>\n",
       "      <td>-7.656</td>\n",
       "      <td>0</td>\n",
       "      <td>0.0629</td>\n",
       "      <td>0.00206</td>\n",
       "      <td>0.003700</td>\n",
       "      <td>0.722</td>\n",
       "      <td>0.508</td>\n",
       "      <td>96.377</td>\n",
       "    </tr>\n",
       "    <tr>\n",
       "      <th>3</th>\n",
       "      <td>0.376</td>\n",
       "      <td>0.853</td>\n",
       "      <td>11</td>\n",
       "      <td>-6.698</td>\n",
       "      <td>0</td>\n",
       "      <td>0.3080</td>\n",
       "      <td>0.01870</td>\n",
       "      <td>0.024900</td>\n",
       "      <td>0.300</td>\n",
       "      <td>0.301</td>\n",
       "      <td>144.403</td>\n",
       "    </tr>\n",
       "    <tr>\n",
       "      <th>4</th>\n",
       "      <td>0.427</td>\n",
       "      <td>0.730</td>\n",
       "      <td>9</td>\n",
       "      <td>-6.173</td>\n",
       "      <td>0</td>\n",
       "      <td>0.0360</td>\n",
       "      <td>0.01800</td>\n",
       "      <td>0.000364</td>\n",
       "      <td>0.218</td>\n",
       "      <td>0.553</td>\n",
       "      <td>106.255</td>\n",
       "    </tr>\n",
       "  </tbody>\n",
       "</table>\n",
       "</div>"
      ],
      "text/plain": [
       "   danceability  energy  key  loudness  mode  speechiness  acousticness  \\\n",
       "0         0.395   0.848    4    -7.285     0       0.0527       0.00126   \n",
       "1         0.599   0.846    5    -6.086     1       0.1980       0.05150   \n",
       "2         0.327   0.851    6    -7.656     0       0.0629       0.00206   \n",
       "3         0.376   0.853   11    -6.698     0       0.3080       0.01870   \n",
       "4         0.427   0.730    9    -6.173     0       0.0360       0.01800   \n",
       "\n",
       "   instrumentalness  liveness  valence    tempo  \n",
       "0          0.000500     0.335    0.580   87.619  \n",
       "1          0.000012     0.748    0.875  108.207  \n",
       "2          0.003700     0.722    0.508   96.377  \n",
       "3          0.024900     0.300    0.301  144.403  \n",
       "4          0.000364     0.218    0.553  106.255  "
      ]
     },
     "execution_count": 9,
     "metadata": {},
     "output_type": "execute_result"
    }
   ],
   "source": [
    "X.head()"
   ]
  },
  {
   "cell_type": "code",
   "execution_count": 11,
   "id": "lesbian-explosion",
   "metadata": {},
   "outputs": [],
   "source": [
    "onehot = OneHotEncoder()\n",
    "scaler = StandardScaler()\n",
    "\n",
    "preprocessing = ColumnTransformer([\n",
    "    ('nums', scaler, X.select_dtypes(include='float64').columns), # non-categorical numerical features\n",
    "    ('cats', onehot, X.select_dtypes(include='int64').columns) # categorical numerical features\n",
    "])"
   ]
  },
  {
   "cell_type": "code",
   "execution_count": 12,
   "id": "dirty-waters",
   "metadata": {},
   "outputs": [
    {
     "data": {
      "text/plain": [
       "[<matplotlib.lines.Line2D at 0x23da26c29d0>]"
      ]
     },
     "execution_count": 12,
     "metadata": {},
     "output_type": "execute_result"
    },
    {
     "data": {
      "image/png": "[encoded data removed]",
      "text/plain": [
       "<Figure size 432x288 with 1 Axes>"
      ]
     },
     "metadata": {
      "needs_background": "light"
     },
     "output_type": "display_data"
    }
   ],
   "source": [
    "ssd = []\n",
    "\n",
    "N = 15\n",
    "for k in range(2, N):\n",
    "    kmeans_pipeline = Pipeline([\n",
    "        ('preprocessing', preprocessing),\n",
    "        ('kmeans', KMeans(n_clusters=k))\n",
    "    ])\n",
    "    \n",
    "    kmeans_pipeline.fit(X)\n",
    "    \n",
    "    inertia = kmeans_pipeline[1].inertia_\n",
    "    ssd.append(inertia)\n",
    "    \n",
    "\n",
    "plt.plot(range(2,N), ssd, 'o--')"
   ]
  },
  {
   "cell_type": "markdown",
   "id": "equivalent-browse",
   "metadata": {},
   "source": [
    "It looks like k=9 is a good choice, however because I know my top songs are all relatively similar overall (I mainly listen to music while exercising, and I like the same style), I will choose k=3.\n",
    "\n",
    "I experimented with different values of k to see how the features would separate and k=3 did the best job grouping things in an interpretable way."
   ]
  },
  {
   "cell_type": "code",
   "execution_count": 27,
   "id": "completed-johns",
   "metadata": {},
   "outputs": [],
   "source": [
    "kmeans_pipeline = Pipeline([\n",
    "    ('preprocessing', preprocessing),\n",
    "    ('kmeans', KMeans(n_clusters=3))\n",
    "])\n",
    "\n",
    "clusters = kmeans_pipeline.fit_predict(X)\n",
    "\n",
    "cluster_centers = kmeans_pipeline[1].cluster_centers_"
   ]
  },
  {
   "cell_type": "code",
   "execution_count": 28,
   "id": "steady-routine",
   "metadata": {},
   "outputs": [
    {
     "data": {
      "text/html": [
       "<div>\n",
       "<style scoped>\n",
       "    .dataframe tbody tr th:only-of-type {\n",
       "        vertical-align: middle;\n",
       "    }\n",
       "\n",
       "    .dataframe tbody tr th {\n",
       "        vertical-align: top;\n",
       "    }\n",
       "\n",
       "    .dataframe thead th {\n",
       "        text-align: right;\n",
       "    }\n",
       "</style>\n",
       "<table border=\"1\" class=\"dataframe\">\n",
       "  <thead>\n",
       "    <tr style=\"text-align: right;\">\n",
       "      <th></th>\n",
       "      <th>danceability</th>\n",
       "      <th>energy</th>\n",
       "      <th>key</th>\n",
       "      <th>loudness</th>\n",
       "      <th>mode</th>\n",
       "      <th>speechiness</th>\n",
       "      <th>acousticness</th>\n",
       "      <th>instrumentalness</th>\n",
       "      <th>liveness</th>\n",
       "      <th>valence</th>\n",
       "      <th>tempo</th>\n",
       "      <th>artistName</th>\n",
       "      <th>trackName</th>\n",
       "      <th>Cluster</th>\n",
       "    </tr>\n",
       "  </thead>\n",
       "  <tbody>\n",
       "    <tr>\n",
       "      <th>0</th>\n",
       "      <td>0.395</td>\n",
       "      <td>0.848</td>\n",
       "      <td>4</td>\n",
       "      <td>-7.285</td>\n",
       "      <td>0</td>\n",
       "      <td>0.0527</td>\n",
       "      <td>0.00126</td>\n",
       "      <td>0.000500</td>\n",
       "      <td>0.335</td>\n",
       "      <td>0.580</td>\n",
       "      <td>87.619</td>\n",
       "      <td>Kansas</td>\n",
       "      <td>Don't Open Your Eyes</td>\n",
       "      <td>1</td>\n",
       "    </tr>\n",
       "    <tr>\n",
       "      <th>1</th>\n",
       "      <td>0.599</td>\n",
       "      <td>0.846</td>\n",
       "      <td>5</td>\n",
       "      <td>-6.086</td>\n",
       "      <td>1</td>\n",
       "      <td>0.1980</td>\n",
       "      <td>0.05150</td>\n",
       "      <td>0.000012</td>\n",
       "      <td>0.748</td>\n",
       "      <td>0.875</td>\n",
       "      <td>108.207</td>\n",
       "      <td>Kansas</td>\n",
       "      <td>Stay out of Trouble</td>\n",
       "      <td>1</td>\n",
       "    </tr>\n",
       "    <tr>\n",
       "      <th>2</th>\n",
       "      <td>0.327</td>\n",
       "      <td>0.851</td>\n",
       "      <td>6</td>\n",
       "      <td>-7.656</td>\n",
       "      <td>0</td>\n",
       "      <td>0.0629</td>\n",
       "      <td>0.00206</td>\n",
       "      <td>0.003700</td>\n",
       "      <td>0.722</td>\n",
       "      <td>0.508</td>\n",
       "      <td>96.377</td>\n",
       "      <td>Kansas</td>\n",
       "      <td>Icarus - Borne on Wings of Steel</td>\n",
       "      <td>1</td>\n",
       "    </tr>\n",
       "    <tr>\n",
       "      <th>3</th>\n",
       "      <td>0.376</td>\n",
       "      <td>0.853</td>\n",
       "      <td>11</td>\n",
       "      <td>-6.698</td>\n",
       "      <td>0</td>\n",
       "      <td>0.3080</td>\n",
       "      <td>0.01870</td>\n",
       "      <td>0.024900</td>\n",
       "      <td>0.300</td>\n",
       "      <td>0.301</td>\n",
       "      <td>144.403</td>\n",
       "      <td>Kansas</td>\n",
       "      <td>How My Soul Cries Out for You</td>\n",
       "      <td>0</td>\n",
       "    </tr>\n",
       "    <tr>\n",
       "      <th>4</th>\n",
       "      <td>0.427</td>\n",
       "      <td>0.730</td>\n",
       "      <td>9</td>\n",
       "      <td>-6.173</td>\n",
       "      <td>0</td>\n",
       "      <td>0.0360</td>\n",
       "      <td>0.01800</td>\n",
       "      <td>0.000364</td>\n",
       "      <td>0.218</td>\n",
       "      <td>0.553</td>\n",
       "      <td>106.255</td>\n",
       "      <td>Kansas</td>\n",
       "      <td>Miracles out of Nowhere</td>\n",
       "      <td>1</td>\n",
       "    </tr>\n",
       "  </tbody>\n",
       "</table>\n",
       "</div>"
      ],
      "text/plain": [
       "   danceability  energy  key  loudness  mode  speechiness  acousticness  \\\n",
       "0         0.395   0.848    4    -7.285     0       0.0527       0.00126   \n",
       "1         0.599   0.846    5    -6.086     1       0.1980       0.05150   \n",
       "2         0.327   0.851    6    -7.656     0       0.0629       0.00206   \n",
       "3         0.376   0.853   11    -6.698     0       0.3080       0.01870   \n",
       "4         0.427   0.730    9    -6.173     0       0.0360       0.01800   \n",
       "\n",
       "   instrumentalness  liveness  valence    tempo artistName  \\\n",
       "0          0.000500     0.335    0.580   87.619     Kansas   \n",
       "1          0.000012     0.748    0.875  108.207     Kansas   \n",
       "2          0.003700     0.722    0.508   96.377     Kansas   \n",
       "3          0.024900     0.300    0.301  144.403     Kansas   \n",
       "4          0.000364     0.218    0.553  106.255     Kansas   \n",
       "\n",
       "                          trackName  Cluster  \n",
       "0              Don't Open Your Eyes        1  \n",
       "1               Stay out of Trouble        1  \n",
       "2  Icarus - Borne on Wings of Steel        1  \n",
       "3     How My Soul Cries Out for You        0  \n",
       "4           Miracles out of Nowhere        1  "
      ]
     },
     "execution_count": 28,
     "metadata": {},
     "output_type": "execute_result"
    }
   ],
   "source": [
    "df['Cluster'] = clusters\n",
    "\n",
    "df.head()"
   ]
  },
  {
   "cell_type": "code",
   "execution_count": 29,
   "id": "metric-means",
   "metadata": {},
   "outputs": [
    {
     "data": {
      "text/html": [
       "<div>\n",
       "<style scoped>\n",
       "    .dataframe tbody tr th:only-of-type {\n",
       "        vertical-align: middle;\n",
       "    }\n",
       "\n",
       "    .dataframe tbody tr th {\n",
       "        vertical-align: top;\n",
       "    }\n",
       "\n",
       "    .dataframe thead th {\n",
       "        text-align: right;\n",
       "    }\n",
       "</style>\n",
       "<table border=\"1\" class=\"dataframe\">\n",
       "  <thead>\n",
       "    <tr style=\"text-align: right;\">\n",
       "      <th>Cluster</th>\n",
       "      <th>0</th>\n",
       "      <th>1</th>\n",
       "      <th>2</th>\n",
       "    </tr>\n",
       "  </thead>\n",
       "  <tbody>\n",
       "    <tr>\n",
       "      <th>danceability</th>\n",
       "      <td>0.356684</td>\n",
       "      <td>0.503892</td>\n",
       "      <td>0.512119</td>\n",
       "    </tr>\n",
       "    <tr>\n",
       "      <th>energy</th>\n",
       "      <td>0.932821</td>\n",
       "      <td>0.917924</td>\n",
       "      <td>0.654324</td>\n",
       "    </tr>\n",
       "    <tr>\n",
       "      <th>key</th>\n",
       "      <td>5.294737</td>\n",
       "      <td>5.191083</td>\n",
       "      <td>4.880952</td>\n",
       "    </tr>\n",
       "    <tr>\n",
       "      <th>loudness</th>\n",
       "      <td>-4.209032</td>\n",
       "      <td>-4.808064</td>\n",
       "      <td>-9.699738</td>\n",
       "    </tr>\n",
       "    <tr>\n",
       "      <th>mode</th>\n",
       "      <td>0.684211</td>\n",
       "      <td>0.643312</td>\n",
       "      <td>0.619048</td>\n",
       "    </tr>\n",
       "    <tr>\n",
       "      <th>speechiness</th>\n",
       "      <td>0.125745</td>\n",
       "      <td>0.074063</td>\n",
       "      <td>0.065910</td>\n",
       "    </tr>\n",
       "    <tr>\n",
       "      <th>acousticness</th>\n",
       "      <td>0.008222</td>\n",
       "      <td>0.016041</td>\n",
       "      <td>0.147353</td>\n",
       "    </tr>\n",
       "    <tr>\n",
       "      <th>instrumentalness</th>\n",
       "      <td>0.046861</td>\n",
       "      <td>0.009975</td>\n",
       "      <td>0.053962</td>\n",
       "    </tr>\n",
       "    <tr>\n",
       "      <th>liveness</th>\n",
       "      <td>0.219961</td>\n",
       "      <td>0.219413</td>\n",
       "      <td>0.299933</td>\n",
       "    </tr>\n",
       "    <tr>\n",
       "      <th>valence</th>\n",
       "      <td>0.397991</td>\n",
       "      <td>0.544280</td>\n",
       "      <td>0.554667</td>\n",
       "    </tr>\n",
       "    <tr>\n",
       "      <th>tempo</th>\n",
       "      <td>163.502716</td>\n",
       "      <td>120.358726</td>\n",
       "      <td>124.491762</td>\n",
       "    </tr>\n",
       "  </tbody>\n",
       "</table>\n",
       "</div>"
      ],
      "text/plain": [
       "Cluster                    0           1           2\n",
       "danceability        0.356684    0.503892    0.512119\n",
       "energy              0.932821    0.917924    0.654324\n",
       "key                 5.294737    5.191083    4.880952\n",
       "loudness           -4.209032   -4.808064   -9.699738\n",
       "mode                0.684211    0.643312    0.619048\n",
       "speechiness         0.125745    0.074063    0.065910\n",
       "acousticness        0.008222    0.016041    0.147353\n",
       "instrumentalness    0.046861    0.009975    0.053962\n",
       "liveness            0.219961    0.219413    0.299933\n",
       "valence             0.397991    0.544280    0.554667\n",
       "tempo             163.502716  120.358726  124.491762"
      ]
     },
     "execution_count": 29,
     "metadata": {},
     "output_type": "execute_result"
    }
   ],
   "source": [
    "df.groupby('Cluster').mean().transpose()"
   ]
  },
  {
   "cell_type": "code",
   "execution_count": 30,
   "id": "extraordinary-glasgow",
   "metadata": {},
   "outputs": [
    {
     "data": {
      "text/plain": [
       "1    157\n",
       "0     95\n",
       "2     42\n",
       "Name: Cluster, dtype: int64"
      ]
     },
     "execution_count": 30,
     "metadata": {},
     "output_type": "execute_result"
    }
   ],
   "source": [
    "df['Cluster'].value_counts()"
   ]
  },
  {
   "cell_type": "code",
   "execution_count": 31,
   "id": "preliminary-large",
   "metadata": {},
   "outputs": [
    {
     "data": {
      "image/png": "[encoded data removed]",
      "text/plain": [
       "<Figure size 576x3240 with 9 Axes>"
      ]
     },
     "metadata": {
      "needs_background": "light"
     },
     "output_type": "display_data"
    }
   ],
   "source": [
    "num_feats = df.select_dtypes(include='number').columns.drop(['Cluster', 'key', 'mode'])\n",
    "\n",
    "N = len(num_feats)\n",
    "\n",
    "fig, ax = plt.subplots(nrows=N, ncols=1, figsize=(8, 5*N))\n",
    "\n",
    "for i in range(N):\n",
    "    sns.boxplot(data=df, x='Cluster', y=num_feats[i], ax=ax[i])\n",
    "    \n",
    "\n",
    "plt.show()"
   ]
  },
  {
   "cell_type": "markdown",
   "id": "sophisticated-encyclopedia",
   "metadata": {},
   "source": [
    "We can see some direct separation with some of the features by cluster. \n",
    "\n",
    "Overall, most of the clusters are similar: Moderate danceability, high energy, high loudness, low speechiness, low acousticness, low instrumentalness, low liveness, moderate valence, high tempo.\n",
    "\n",
    "Cluster 0: Lower danceability, higher speechiness, lower valence (although not much), higher tempo.\n",
    "\n",
    "Cluster 1: Less danceability, higher tempo and higher speechiness.\n",
    "\n",
    "Cluster 2: Lower energy, lower loudness, higher acousticness, "
   ]
  },
  {
   "cell_type": "markdown",
   "id": "spoken-pickup",
   "metadata": {},
   "source": [
    "### Conclusion\n",
    "\n",
    "Overall, I am not surprised to see the overall statistics. Since all the songs are rather similar (high energy, tempo, etc), the clusters 0 and 1, which contained most of the songs, are very similar with the only difference being the tempo, danceability, and speechiness feature. I would propose the reason for this is a song with tempo very high (160 is very high), the singing can get a little bit on the speechy side, and it is also very hard to dance to extremely fast music. I find it interesting that the valence for cluster 0 as a separation, although small, from the other two clusters. It seems like valence should be, by definition, related more to the lyrics of the song, which this dataset does not account for.\n",
    "\n",
    "Cluster 2's features tend to show a lower energy, less loud, and more acoustic type of song. These three features make sense to go together as loudness/energy are correlated, and naturally, acoustic-sounding songs would be less loud (at least in the \"rock\" genre). Noting that the size of cluster 2 is 42, this is the smallest cluster as well, which would indicate I do not listen to these types of songs as often.\n",
    "\n",
    "Overall, I am not surprised by my findings as I typically listen to music while exercising, and I prefer faster-paced type music during this."
   ]
  }
 ],
 "metadata": {
  "kernelspec": {
   "display_name": "Python py3TF2",
   "language": "python",
   "name": "py3tf2"
  },
  "language_info": {
   "codemirror_mode": {
    "name": "ipython",
    "version": 3
   },
   "file_extension": ".py",
   "mimetype": "text/x-python",
   "name": "python",
   "nbconvert_exporter": "python",
   "pygments_lexer": "ipython3",
   "version": "3.8.5"
  }
 },
 "nbformat": 4,
 "nbformat_minor": 5
}
